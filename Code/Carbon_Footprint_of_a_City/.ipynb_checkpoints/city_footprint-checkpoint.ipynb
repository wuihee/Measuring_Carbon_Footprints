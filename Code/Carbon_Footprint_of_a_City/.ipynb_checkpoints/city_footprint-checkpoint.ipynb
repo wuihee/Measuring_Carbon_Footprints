{
 "cells": [
  {
   "cell_type": "markdown",
   "metadata": {},
   "source": [
    "<h1>Calculate the Carbon Footprint of a City</h1>"
   ]
  },
  {
   "cell_type": "markdown",
   "metadata": {
    "collapsed": true
   },
   "source": [
    "<h2>Inventory Boundary Information</h2>"
   ]
  },
  {
   "cell_type": "code",
   "execution_count": 12,
   "metadata": {
    "collapsed": false
   },
   "outputs": [
    {
     "name": "stdout",
     "output_type": "stream",
     "text": [
      "Name: Seattle\n",
      "Land Area: 83.78\n",
      "Population: 684443\n",
      "Median Income: 80349\n"
     ]
    }
   ],
   "source": [
    "class City():\n",
    "    def __init__(self, name, land_area, population, median_income):\n",
    "        self.name = name\n",
    "        self.land_area = land_area  # mi2\n",
    "        self.population = population\n",
    "        self.median_income = median_income\n",
    "\n",
    "        self.inventory = {\"Name\": name, \"Land Area\": land_area, \"Population\": population, \"Median Income\": median_income}\n",
    "        self.keys = list(inventory.keys())\n",
    "        self.values = list(inventory.values())\n",
    "        \n",
    "    def print_inventory(self):\n",
    "        for i in range(len(self.inventory)):\n",
    "            print(\"{}: {}\".format(self.keys[i], self.values[i]))\n",
    "            \n",
    "            \n",
    "ghgs = {\"CO2\": \"Carbon Dioxide\", \n",
    "        \"CH4\": \"Methan\", \n",
    "        \"N20\": \"Nitrous Oxide\", \n",
    "        \"HFCs\": \"Hydrofluorocarbons\", \n",
    "        \"PFCs\": \"Perfluorocarbons\", \n",
    "        \"SF6\": \"Sulfur Hexafluoride\", \n",
    "        \"NF3\": \"Nitrogen Trifluoride\"}\n",
    "emission_sources = [\"Stationary Energy\",\n",
    "                    \"Transportation\",\n",
    "                    \"Waste\",\n",
    "                    \"Industrial Processes and Product Use\",\n",
    "                    \"Agriculture, Forestry and Other Land Use\"]\n",
    "            \n",
    "            \n",
    "seattle = City(\"Seattle\", 83.78, 684443, 80349)\n",
    "seattle.print_inventory()\n"
   ]
  }
 ],
 "metadata": {
  "kernelspec": {
   "display_name": "Python 3",
   "language": "python",
   "name": "python3"
  },
  "language_info": {
   "codemirror_mode": {
    "name": "ipython",
    "version": 3
   },
   "file_extension": ".py",
   "mimetype": "text/x-python",
   "name": "python",
   "nbconvert_exporter": "python",
   "pygments_lexer": "ipython3",
   "version": "3.6.0"
  }
 },
 "nbformat": 4,
 "nbformat_minor": 2
}
